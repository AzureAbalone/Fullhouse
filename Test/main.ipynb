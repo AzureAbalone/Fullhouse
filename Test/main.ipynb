{
 "cells": [
  {
   "cell_type": "markdown",
   "metadata": {},
   "source": [
    "# Tiêu đề 1\n",
    "\n",
    "## Tiêu đề 2\n",
    "\n",
    "### Tiều đề 3\n",
    "\n",
    "#### Tiêu đề 4\n",
    "\n",
    "##### Tiêu đề 5\n",
    "\n",
    "<b>In đậm</b> **In đậm**\n",
    "\n",
    "_In nghiêng_ <i>In nghiêng</i>\n",
    "\n",
    "# <b>Mục lục</b>\n",
    "\n",
    "-   Chương 1\n",
    "    -   <a href='./readme.md#tập-1-nơi-tình-yêu-bắt-đầu'>Tập 1: Nơi tình yêu bắt đầu</a>\n",
    "    -   <a href='./readme.md#tập-2-nơi-tình-yêu-bắt-đầu' style='color: red; text-decoration: none'>Tập 2: Nơi tình yêu bắt đầu</a>\n",
    "-   Chương 2\n"
   ]
  },
  {
   "cell_type": "code",
   "execution_count": 6,
   "metadata": {},
   "outputs": [
    {
     "ename": "ValueError",
     "evalue": "invalid literal for int() with base 10: '1    a'",
     "output_type": "error",
     "traceback": [
      "\u001b[1;31m---------------------------------------------------------------------------\u001b[0m",
      "\u001b[1;31mValueError\u001b[0m                                Traceback (most recent call last)",
      "Cell \u001b[1;32mIn[6], line 1\u001b[0m\n\u001b[1;32m----> 1\u001b[0m \u001b[38;5;28mprint\u001b[39m(\u001b[38;5;28;43mint\u001b[39;49m\u001b[43m(\u001b[49m\u001b[38;5;124;43m'\u001b[39;49m\u001b[38;5;124;43m1    a\u001b[39;49m\u001b[38;5;124;43m'\u001b[39;49m\u001b[43m)\u001b[49m)\n",
      "\u001b[1;31mValueError\u001b[0m: invalid literal for int() with base 10: '1    a'"
     ]
    }
   ],
   "source": [
    "print(int(\"1    a\"))"
   ]
  }
 ],
 "metadata": {
  "kernelspec": {
   "display_name": "venv",
   "language": "python",
   "name": "python3"
  },
  "language_info": {
   "codemirror_mode": {
    "name": "ipython",
    "version": 3
   },
   "file_extension": ".py",
   "mimetype": "text/x-python",
   "name": "python",
   "nbconvert_exporter": "python",
   "pygments_lexer": "ipython3",
   "version": "3.12.0"
  }
 },
 "nbformat": 4,
 "nbformat_minor": 2
}
